{
  "nbformat": 4,
  "nbformat_minor": 0,
  "metadata": {
    "colab": {
      "provenance": [],
      "toc_visible": true
    },
    "kernelspec": {
      "name": "python3",
      "display_name": "Python 3"
    },
    "language_info": {
      "name": "python"
    }
  },
  "cells": [
    {
      "cell_type": "markdown",
      "source": [
        "\n",
        "**Credits**: This tutorial is prepared by Denissa Purba (dpurba2@illinois.edu) for CEE 201 Fall 2023. It adapts and expands the previous [CEE 201 - Introduction to Python](https://colab.research.google.com/drive/1B5CxPXwMsUaLXsQtc47wJuYeit5BLj49), written by Saipraneeth Devunuri."
      ],
      "metadata": {
        "id": "F_YejT7bmUhG"
      }
    },
    {
      "cell_type": "markdown",
      "source": [
        "# **How to use this tutorial:**\n",
        "\n",
        "**Option 1: Using Google Collab**\n",
        "1. Please sign in with your Netid account\n",
        "2. Go to File, choose \"Save a copy in Drive\"\n",
        "3. Now, you can run, try, and edit this tutorial in your local Google Drive. (All changes would not impact the original notebook)\n",
        "4. To add code cells, click \"+ Code\" on the top left of the script window\n",
        "\n",
        "Note: After you sign in, you can also directly edit, run, and add code cells in this notebook without copying them. Just choose \"run anyway\" in the popup window. However, you could not save your changes or edits for your end.\n",
        "\n",
        "**Option 2: Using Jupyter Notebook**\n",
        "1. Go to File, choose Download\n",
        "2. Choose Download as Notebook .ipynb\n",
        "3. Save it to your local directory/folder and run it in Jupyter Notebook\n",
        "\n",
        "See the tutorial of [Jupyter Notebook setup here](https://uofi.box.com/s/fpcxvx7ge0k0u2qcpkyouqc2bcbpsxsa)!"
      ],
      "metadata": {
        "id": "VGJBvCaBGnqg"
      }
    },
    {
      "cell_type": "markdown",
      "source": [
        "# Introduction to Python Programming\n",
        "\n",
        "Welcome to <b>Python Tutorial: Introduction to Python Programming</b>. In this tutorial, we will cover the programming fundamentals including:\n",
        "\n",
        "- [Basics in Python](#s1)\n",
        "- [Data types in Python](#s2)\n",
        "- [Typecasting](#s3)\n",
        "- [Advanced Printing](#s4)\n",
        "- [Operators](#s5)\n",
        "- [Control flow](#s6)\n",
        "- [Functions](#s7)\n",
        "\n",
        "\n",
        "**Note:** If you are already familiar with the basics, directly go to [Time Value of Money](#ss1)\n",
        "\n",
        "Feel free to edit and change this notebook.\n",
        "\n"
      ],
      "metadata": {
        "id": "uxdvOfufP3cr"
      }
    },
    {
      "cell_type": "markdown",
      "source": [
        "<a name=\"s1\"></a>\n",
        "## Basics in Python\n",
        "\n",
        "This section covers basic writing concepts in Python, including:\n",
        "- variables\n",
        "- printing\n",
        "- comments\n",
        "- importing libraries"
      ],
      "metadata": {
        "id": "22KLXBcZVSxc"
      }
    },
    {
      "cell_type": "markdown",
      "source": [],
      "metadata": {
        "id": "9l_s8CLnV_1F"
      }
    },
    {
      "cell_type": "markdown",
      "source": [
        "**Variables**\n",
        "\n",
        "To create a simple variable, type the variable name, the equals (=) sign, and the variable value.\n",
        "\n",
        "Variable names can begin with an alphabetic character (a-z), digit (0-9), or underscore (_). In Python, variable names are **case sensitive**."
      ],
      "metadata": {
        "id": "tJTLO1t3WI6z"
      }
    },
    {
      "cell_type": "code",
      "source": [
        "a = 1\n",
        "b = 4"
      ],
      "metadata": {
        "id": "HfxrizdyVONS"
      },
      "execution_count": null,
      "outputs": []
    },
    {
      "cell_type": "code",
      "source": [
        "a"
      ],
      "metadata": {
        "id": "IpS9wbAZWRVc"
      },
      "execution_count": null,
      "outputs": []
    },
    {
      "cell_type": "code",
      "source": [
        "b"
      ],
      "metadata": {
        "id": "pE1wOtcCWS5f"
      },
      "execution_count": null,
      "outputs": []
    },
    {
      "cell_type": "code",
      "source": [
        "One = 1\n",
        "one = 2"
      ],
      "metadata": {
        "id": "k9hYDzbXWgng"
      },
      "execution_count": null,
      "outputs": []
    },
    {
      "cell_type": "code",
      "source": [
        "One"
      ],
      "metadata": {
        "id": "cK0F68CnWk3h"
      },
      "execution_count": null,
      "outputs": []
    },
    {
      "cell_type": "code",
      "source": [
        "one"
      ],
      "metadata": {
        "id": "Srxxi_GwWlp5"
      },
      "execution_count": null,
      "outputs": []
    },
    {
      "cell_type": "markdown",
      "source": [
        "**Printing**\n",
        "\n",
        "You could print the variable and text directly"
      ],
      "metadata": {
        "id": "tgqwg55UjF7v"
      }
    },
    {
      "cell_type": "code",
      "source": [
        "print(One)"
      ],
      "metadata": {
        "id": "xI6z2sayjFFu"
      },
      "execution_count": null,
      "outputs": []
    },
    {
      "cell_type": "code",
      "source": [
        "print(\"Hello World!\")"
      ],
      "metadata": {
        "id": "fEuvfiB8jJMd"
      },
      "execution_count": null,
      "outputs": []
    },
    {
      "cell_type": "markdown",
      "source": [
        "**Comments**\n",
        "\n",
        "Using a pound sign (#) in a Python line will create a comment. Comments don't have to be at the start of a line, but note that any part of the line after the pound sign will be considered a comment."
      ],
      "metadata": {
        "id": "1rNsnX1AYHV5"
      }
    },
    {
      "cell_type": "code",
      "source": [
        "# this is a comment\n",
        "## You can also use two hastags. Anything after hastag is commented ##\n",
        "# test = 1 (this is a comment, not a code line)"
      ],
      "metadata": {
        "id": "IxzGUpRCXlXY"
      },
      "execution_count": null,
      "outputs": []
    },
    {
      "cell_type": "code",
      "source": [
        "#it will give you an error because we have not define variable test\n",
        "test"
      ],
      "metadata": {
        "id": "0wUiLWjqXzb-"
      },
      "execution_count": null,
      "outputs": []
    },
    {
      "cell_type": "code",
      "source": [
        "test = 1 # we can add comment roght next to our code line"
      ],
      "metadata": {
        "id": "qGPLknFRYNNK"
      },
      "execution_count": null,
      "outputs": []
    },
    {
      "cell_type": "code",
      "source": [
        "test #it will work because we have define variable test"
      ],
      "metadata": {
        "id": "mm3YWdDGYvPl"
      },
      "execution_count": null,
      "outputs": []
    },
    {
      "cell_type": "markdown",
      "source": [
        "**Importing Libraries**\n",
        "\n",
        "Python has a lot of established functions that we could use directly. We often called it as **library**. Each library will contain specific functions that you could use.\n",
        "\n",
        "You could check several popular Python libraries here: [Top 30 Python Libraries 2023](https://www.mygreatlearning.com/blog/open-source-python-libraries/)\n",
        "\n",
        "Now, let us learn several ways to import the library.\n",
        "1. Import entire library and its function. Some libraries might have long name and we could import the entire library by changing its name with the nickname that we would like to define. **Be careful** to not use same name for your library and variables!\n",
        "2. Import only some functions from a library"
      ],
      "metadata": {
        "id": "6I5H-h3UZOg9"
      }
    },
    {
      "cell_type": "code",
      "source": [
        "import numpy                        # import entire library\n",
        "import numpy as np                  # import entire numpy and call it as np in our code\n",
        "from math import sqrt               # import only the square root function from math library\n",
        "from math import factorial as fac   # import only the factorial function from math library and call it as fac in our code"
      ],
      "metadata": {
        "id": "mUTHboO7a_zK"
      },
      "execution_count": null,
      "outputs": []
    },
    {
      "cell_type": "markdown",
      "source": [
        "<a name=\"s2\"></a>\n",
        "## Data types in Python\n",
        "\n",
        "First, let us revise the data types in python. Python has the following datatypes:\n",
        "- Integers\n",
        "- Floats\n",
        "- Strings\n",
        "- Lists\n",
        "- Tuples\n",
        "- Dictionaries\n",
        "\n",
        "The difference between Lists and Tuples is that lists are mutable (i.e. you change the value after you create them) whereas tuples are immutable. Both lists and tuples can have different datatypes stored. Dictionaries are collections of items with a mapping of key & value.\n",
        "\n",
        "Lets create one of each data type see for ourselves!"
      ],
      "metadata": {
        "id": "xJ-Ncn5yQBIk"
      }
    },
    {
      "cell_type": "code",
      "source": [
        "# Integers\n",
        "a = 3\n",
        "# Floats\n",
        "b = 3.14\n",
        "# Strings\n",
        "c = 'Pi'\n",
        "# Lists are denoted by [] square braces\n",
        "d = [3,3.1,3.14,3.141,\"3.1415\"]\n",
        "# Tuples are denoted by () round braces\n",
        "e = (3,3.1,3.14,3.141,\"3.1415\")\n",
        "# Dictionaries are denoted by {} curly braces\n",
        "f = {\"a\":3,\"b\":3.14,3:3.141}"
      ],
      "metadata": {
        "id": "39FM98CDcDKc"
      },
      "execution_count": null,
      "outputs": []
    },
    {
      "cell_type": "markdown",
      "source": [
        "Use `type()` function to find the type of variable. Feel free to change the variable (a to f) to get types"
      ],
      "metadata": {
        "id": "kGLAwEG9cwlf"
      }
    },
    {
      "cell_type": "code",
      "source": [
        "type(a)"
      ],
      "metadata": {
        "id": "coB5okbqczeO"
      },
      "execution_count": null,
      "outputs": []
    },
    {
      "cell_type": "markdown",
      "source": [
        "**Lists and Tuples**\n",
        "\n",
        "Elements in a list can be changed, but elements in a tuple can not unless a new tuple is created. You could use `.append()`\n",
        "\n"
      ],
      "metadata": {
        "id": "zG-RgcZgdQLD"
      }
    },
    {
      "cell_type": "code",
      "source": [
        "# let us add element value to list d\n",
        "d.append(5)\n",
        "d"
      ],
      "metadata": {
        "id": "70044zXDdz3F"
      },
      "execution_count": null,
      "outputs": []
    },
    {
      "cell_type": "code",
      "source": [
        "# we could not add new element to tuple. It will give you an error\n",
        "e.append(5)\n",
        "e"
      ],
      "metadata": {
        "id": "yHGZNluGd_qj"
      },
      "execution_count": null,
      "outputs": []
    },
    {
      "cell_type": "markdown",
      "source": [
        "You can select a specific value of a list or tuple using <b>square brackets</b> around the item's <b>index</b>. These need to be directly at the end of the variable name. Python index values start from `0`. Feel free to change the index"
      ],
      "metadata": {
        "id": "P-UH_YpEeekR"
      }
    },
    {
      "cell_type": "code",
      "source": [
        "## call specific index\n",
        "d[0]"
      ],
      "metadata": {
        "id": "M6XJ8aMEezFu"
      },
      "execution_count": null,
      "outputs": []
    },
    {
      "cell_type": "code",
      "source": [
        "e[2]"
      ],
      "metadata": {
        "id": "Rx0WmseXe_cn"
      },
      "execution_count": null,
      "outputs": []
    },
    {
      "cell_type": "code",
      "source": [
        "# call all the element in list/tuple, use [:]\n",
        "d[:]"
      ],
      "metadata": {
        "id": "3L4vFKXhfM-W"
      },
      "execution_count": null,
      "outputs": []
    },
    {
      "cell_type": "code",
      "source": [
        "# call all element until a certain index (threshold) in list/tuple\n",
        "d[:4] # we call elements index 0 to 3"
      ],
      "metadata": {
        "id": "6RqHHvmHfVnn"
      },
      "execution_count": null,
      "outputs": []
    },
    {
      "cell_type": "code",
      "source": [
        "# you could also put the threshold as variable\n",
        "n = 4\n",
        "d[:n]"
      ],
      "metadata": {
        "id": "SSx85jpKflge"
      },
      "execution_count": null,
      "outputs": []
    },
    {
      "cell_type": "code",
      "source": [
        "# call the last index, use [-1]\n",
        "d[-1]"
      ],
      "metadata": {
        "id": "uzilQd9cfCDM"
      },
      "execution_count": null,
      "outputs": []
    },
    {
      "cell_type": "markdown",
      "source": [
        "**Dictionaries**\n",
        "\n",
        "Dictionaries are a collection of unordered key-value pairs. The structure of dictrionary:\n",
        "\n",
        "`myDict = { key1: value1; key2: value2}`\n",
        "\n"
      ],
      "metadata": {
        "id": "x15auTLqf55m"
      }
    },
    {
      "cell_type": "code",
      "source": [
        "# list all keys\n",
        "f.keys()"
      ],
      "metadata": {
        "id": "e5Bd5URzgeKB"
      },
      "execution_count": null,
      "outputs": []
    },
    {
      "cell_type": "code",
      "source": [
        "# list all values\n",
        "f.values()"
      ],
      "metadata": {
        "id": "Ef_9nbntgqsr"
      },
      "execution_count": null,
      "outputs": []
    },
    {
      "cell_type": "code",
      "source": [
        "# call value of specific key\n",
        "f['a']"
      ],
      "metadata": {
        "id": "Czpdgkkmgt6P"
      },
      "execution_count": null,
      "outputs": []
    },
    {
      "cell_type": "markdown",
      "source": [
        "<a name=\"s3\"></a>\n",
        "## Typecasting\n",
        "\n",
        "You can change the type of a variable using typecasting. Let us see an example"
      ],
      "metadata": {
        "id": "H0ybNDDag9BF"
      }
    },
    {
      "cell_type": "code",
      "source": [
        "## We know b is a float. Let us convert it to a integer\n",
        "b1 = int(b)\n",
        "type(b1)"
      ],
      "metadata": {
        "id": "ekSJLJvViTRq"
      },
      "execution_count": null,
      "outputs": []
    },
    {
      "cell_type": "markdown",
      "source": [
        "As you can see, the 3.14 is truncated to 3 and converted to an integer using the built-in typecasting function `int`. Let us convert b to a string"
      ],
      "metadata": {
        "id": "dI7Pqwa5iWNw"
      }
    },
    {
      "cell_type": "code",
      "source": [
        "# TRY YOURSELF\n",
        "## TODO: Convert b to a string using `str` (int -> str)\n",
        "\n",
        "\n",
        "## TODO: Convert e to a list using `list` (tuple -> list)"
      ],
      "metadata": {
        "id": "9Cm1ilr8iUAQ"
      },
      "execution_count": null,
      "outputs": []
    },
    {
      "cell_type": "markdown",
      "source": [
        "<a name=\"s4\"></a>\n",
        "## Advanced Printing\n",
        "\n",
        "Now, you have learned several data types in Python. In this section, we would cover how to print a complex text and variable in `print()` command.\n",
        "\n"
      ],
      "metadata": {
        "id": "EN_X4gvni204"
      }
    },
    {
      "cell_type": "code",
      "source": [
        "# You could combine the text and variable with '+'\n",
        "course = \"CEE 201\"\n",
        "print(\"I am taking \"+ course +\" in Fall 2023\" )"
      ],
      "metadata": {
        "id": "kSLioF1aju-2"
      },
      "execution_count": null,
      "outputs": []
    },
    {
      "cell_type": "code",
      "source": [
        "# You could use {} and .format()\n",
        "print(\"I am taking {} in Fall 2023\".format(course))"
      ],
      "metadata": {
        "id": "zKbpLBlej_to"
      },
      "execution_count": null,
      "outputs": []
    },
    {
      "cell_type": "code",
      "source": [
        "x = 201\n",
        "print(\"I am taking CEE {} in Fall 2023\".format(x))"
      ],
      "metadata": {
        "id": "KbklbPm9kZix"
      },
      "execution_count": null,
      "outputs": []
    },
    {
      "cell_type": "code",
      "source": [
        "# you could also print an operation\n",
        "print(1+2)"
      ],
      "metadata": {
        "id": "rGuIDNdtlV6C"
      },
      "execution_count": null,
      "outputs": []
    },
    {
      "cell_type": "markdown",
      "source": [
        "<a name=\"s5\"></a>\n",
        "## Operators\n",
        "\n",
        "Operators are symbols or keywords in a programming language that are used to perform operations on one or more operands (values).Python has several types of operators.Let us see some of the most common ones\n",
        "\n",
        "**Arithmetic operators:** These operators are used to perform mathematical operations such as addition (+), subtraction (-), multiplication (\\*), division (/), modulus (%), and exponent (\\**)."
      ],
      "metadata": {
        "id": "GHPHug0DlJc0"
      }
    },
    {
      "cell_type": "code",
      "source": [
        "x = 15\n",
        "y = 3\n",
        "print(x + y) # Output: 18\n",
        "print(x - y) # Output: 12\n",
        "print(x * y) # Output: 45\n",
        "print(x / y) # Output: 5.0\n",
        "print(x % y) # Output: 0\n",
        "print(x ** y) # Output:3375"
      ],
      "metadata": {
        "id": "TgFKTcDDldQc"
      },
      "execution_count": null,
      "outputs": []
    },
    {
      "cell_type": "markdown",
      "source": [
        "**Comparison operators:** These operators are used to compare two values and return a Boolean value (True or False). The comparison operators are: greater than (>), less than (<), greater than or equal to (>=), less than or equal to (<=), equal to (==), and not equal to (!=)."
      ],
      "metadata": {
        "id": "1EChshYTlgmp"
      }
    },
    {
      "cell_type": "code",
      "source": [
        "a = 5\n",
        "b = 3\n",
        "print(a > b) # Output: True\n",
        "print(a < b) # Output: False\n",
        "print(a >= b) # Output: True\n",
        "print(a <= b) # Output: False\n",
        "print(a == b) # Output: False\n",
        "print(a != b) # Output: True"
      ],
      "metadata": {
        "id": "N8SlzoqMlj1n"
      },
      "execution_count": null,
      "outputs": []
    },
    {
      "cell_type": "markdown",
      "source": [
        "**Logical operators:** These operators are used to combine multiple conditions and return a Boolean value. The logical operators are: and, or, and not."
      ],
      "metadata": {
        "id": "hM11U8YLlkjc"
      }
    },
    {
      "cell_type": "code",
      "source": [
        "c = True\n",
        "d = False\n",
        "print(c and d) # Output: False\n",
        "print(c or d) # Output: True\n",
        "print(not c) # Output: False"
      ],
      "metadata": {
        "id": "B7VSehhHlm0m"
      },
      "execution_count": null,
      "outputs": []
    },
    {
      "cell_type": "markdown",
      "source": [
        "<a name=\"s6\"></a>\n",
        "## Control Flow\n",
        "\n",
        "Most of the time python programs run line by line, executing each statement in order from top to bottom. However, there are cases when certain lines should be skipped if some <b>condition occurs</b>, or a certain section of code should be <b>run many times</b>. Control flow tools are used to change the order or number of times lines or code sections are run.\n",
        "\n",
        "\n",
        "\n",
        "**Conditions**: If/Else statement allows us to run operation based on condition statement that we would like to define"
      ],
      "metadata": {
        "id": "R4LjToY4l2pz"
      }
    },
    {
      "cell_type": "code",
      "source": [
        "a = 3\n",
        "\n",
        "if a == 3: # we could at logical operators to define condition statement\n",
        "  print(a)\n",
        "else: # other condition\n",
        "  print(\"a is not 3\")\n",
        "\n",
        "## Try yourself by setting a = 4 or changing the condition"
      ],
      "metadata": {
        "id": "YhyT3Znfn0tg"
      },
      "execution_count": null,
      "outputs": []
    },
    {
      "cell_type": "code",
      "source": [
        "# we could also add sub-condition statement as much as we want\n",
        "\n",
        "x=5\n",
        "y=10\n",
        "if(x>=5):\n",
        "    if(y!=10):\n",
        "        print (\"option A\")\n",
        "    else:\n",
        "        print (\"option B\")\n",
        "else:\n",
        "    if(y<11):\n",
        "        print (\"option C\")\n",
        "    else:\n",
        "        print (\"option D\")\n",
        "\n",
        "# Output is \"option B\"\n",
        "## Try yourself by changing the condition"
      ],
      "metadata": {
        "id": "dDoHWMyQoXsX"
      },
      "execution_count": null,
      "outputs": []
    },
    {
      "cell_type": "markdown",
      "source": [
        "**Loops**: you could loop over your operation for series of number or elements"
      ],
      "metadata": {
        "id": "-Y1eXSjIo0tH"
      }
    },
    {
      "cell_type": "code",
      "source": [
        "animals = ['cat', 'dog', 'monkey']\n",
        "for animal in animals:\n",
        "    print(animal)"
      ],
      "metadata": {
        "id": "DXHFbp5Yo-Wz"
      },
      "execution_count": null,
      "outputs": []
    },
    {
      "cell_type": "code",
      "source": [
        "# you could access the index of your element to do the loop\n",
        "animals = ['cat', 'dog', 'monkey']\n",
        "for idx, animal in enumerate(animals):\n",
        "    print('#{}: {}'.format(idx + 1, animal))"
      ],
      "metadata": {
        "id": "i48lmP2mpFu9"
      },
      "execution_count": null,
      "outputs": []
    },
    {
      "cell_type": "code",
      "source": [
        "nums = [0, 1, 2, 3, 4]\n",
        "squares = []\n",
        "for i in range(5): #repeat the process 5 times\n",
        "  for x in nums:\n",
        "      squares.append(x ** 2)\n",
        "  print(squares)"
      ],
      "metadata": {
        "id": "SUt0t0YUpSae"
      },
      "execution_count": null,
      "outputs": []
    },
    {
      "cell_type": "markdown",
      "source": [
        "<a name=\"s7\"></a>\n",
        "## Function\n",
        "\n",
        "A function is a basic block of code which has input arguments and returns an output. Functions are defined using the `def` keyword in Python, followed by the name of the function and a set of parentheses that may contain parameters. The code inside the function is indented and is executed when the function is called.\n",
        "\n",
        "For example, here is a simple function that takes two numbers as parameters, adds them together, and returns the result."
      ],
      "metadata": {
        "id": "sFCJiusdl8R-"
      }
    },
    {
      "cell_type": "code",
      "source": [
        "def add_numbers(x, y):\n",
        "    result = x + y\n",
        "    return result # whenever we call function add_number(), it will return us result variable"
      ],
      "metadata": {
        "id": "xMtlkz2-p2Xa"
      },
      "execution_count": null,
      "outputs": []
    },
    {
      "cell_type": "code",
      "source": [
        "## Define Variables\n",
        "a = 5\n",
        "b = 4\n",
        "\n",
        "## Let us pass in variables x and y. Notice multiple ways to pass the input\n",
        "print(add_numbers(x=a,y=b))\n",
        "print(add_numbers(a,y=b))\n",
        "print(add_numbers(a,b))"
      ],
      "metadata": {
        "id": "jydbzNshp4QU"
      },
      "execution_count": null,
      "outputs": []
    },
    {
      "cell_type": "markdown",
      "source": [
        "Besides conventional functions, `lambda` functions are very helpful. They are one-line functions with an easier syntax"
      ],
      "metadata": {
        "id": "Q_I9vk82qAcb"
      }
    },
    {
      "cell_type": "code",
      "source": [
        "add_numbers = lambda x, y: x+y\n",
        "## Let us pass in variables x and y. Notice multiple ways to pass the input\n",
        "print(add_numbers(x=a,y=b))\n",
        "print(add_numbers(a,y=b))\n",
        "print(add_numbers(a,b))"
      ],
      "metadata": {
        "id": "_q_I6xlDqCJp"
      },
      "execution_count": null,
      "outputs": []
    },
    {
      "cell_type": "code",
      "source": [
        "## TODO - Q1: Create a function that returns the area of rectangle given sides a & b\n",
        "def area_of_rectangle(a,b):\n",
        "  return"
      ],
      "metadata": {
        "id": "d7Gl2ETQqD-a"
      },
      "execution_count": null,
      "outputs": []
    },
    {
      "cell_type": "markdown",
      "source": [
        "<a name=\"ss1\"></a>\n",
        "# Time Value of Money\n",
        "\n",
        "In this notebook, we will be using Python to explore and understand the concepts of Time Value of Money. We will be using the built-in Python libraries, such as numpy and matplotlib, to perform calculations and create visualizations. By the end of this notebook, you will hopefully have a good understanding of the time value of money and how to use Python to perform calculations related to it. Let's get started!\n",
        "\n",
        "- [Present and Future Conversion Problems](#ss2)\n",
        "- [Annuity Problems](#ss3)"
      ],
      "metadata": {
        "id": "EvYZc08-P4C8"
      }
    },
    {
      "cell_type": "markdown",
      "source": [
        "<a name=\"ss2\"></a>\n",
        "## Present ⬅️➡️ Future Conversion Problems\n",
        "Let us try to code this example on python for the case of Simple interest and Compound interest.\n",
        "\n",
        "What is the future value of 1,000 in 10 years with interest of 5%?\n",
        "\n",
        "![image.png](data:image/png;base64,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)"
      ],
      "metadata": {
        "id": "DfoH3y-0rI8a"
      }
    },
    {
      "cell_type": "markdown",
      "source": [
        "### Simple Interest\n",
        "\n",
        "To do that, let us follow these steps:\n",
        "1. Define a function and required parameter\n",
        "2. Define the input variables\n",
        "3. Use the function to calculate the result"
      ],
      "metadata": {
        "id": "mwW2fVqirX11"
      }
    },
    {
      "cell_type": "code",
      "source": [
        "## Function\n",
        "def futurevalue(presentvalue, rate, year):\n",
        "  FV = presentvalue*(1+rate*year)\n",
        "  return FV\n",
        "\n",
        "## Variables\n",
        "# Initial investment\n",
        "PV = 1000\n",
        "# Interest rate\n",
        "r = 0.05\n",
        "# Number of periods\n",
        "n_year = 10\n",
        "\n",
        "## Calculate future value\n",
        "F = futurevalue(PV, r, n_year)\n",
        "\n",
        "print(\"Future value of investment: ${:.2f}\".format(F))"
      ],
      "metadata": {
        "id": "kB2zb4girXNt"
      },
      "execution_count": null,
      "outputs": []
    },
    {
      "cell_type": "code",
      "execution_count": null,
      "metadata": {
        "id": "WEGNoeg9PENA"
      },
      "outputs": [],
      "source": [
        "## Let us create a function for calculating future value for a simple interest case\n",
        "\n",
        "## Function\n",
        "FOP_simple = lambda P,r,n : P * (1 + r * n)\n",
        "\n",
        "## Variables\n",
        "# have been defined above\n",
        "\n",
        "## Calculate future value\n",
        "F = FOP_simple(PV,r,n_year)\n",
        "\n",
        "print(\"Future value of investment: ${:.2f}\".format(F))"
      ]
    },
    {
      "cell_type": "markdown",
      "source": [
        "**Now Your Turn!**\n",
        "\n",
        "Create a function that returns present value for a simple interest case. Then, calculate present value, P, with F = 1200 with rate = 5% and n = 10 year.\n",
        "\n",
        "Remember the steps:\n",
        "1. Define a function and required parameter\n",
        "2. Define the input variables\n",
        "3. Use the function to calculate the result"
      ],
      "metadata": {
        "id": "xC0_u1rKrwBx"
      }
    },
    {
      "cell_type": "code",
      "source": [
        "## Function\n",
        "def presentvalue(futurevalue, rate, year):\n",
        "  # write your formulation here\n",
        "  #PV =\n",
        "  return #PV\n",
        "\n",
        "## Variables\n",
        "# Future value\n",
        "FV = 1200\n",
        "# Interest rate\n",
        "r = 0.05\n",
        "# Number of periods\n",
        "n_year = 10\n",
        "\n",
        "## Calculate future value\n",
        "# P = presentvalue(FV, r, n_year)\n",
        "\n",
        "# print(\"Present value: ${:.2f}\".format(P))\n"
      ],
      "metadata": {
        "id": "m7YRmPZErpyX"
      },
      "execution_count": null,
      "outputs": []
    },
    {
      "cell_type": "markdown",
      "source": [
        "### Compound Interest\n",
        "Assume a compound interest now"
      ],
      "metadata": {
        "id": "lBQquShEruZ7"
      }
    },
    {
      "cell_type": "code",
      "source": [
        "## Function\n",
        "def futurevalue(presentvalue, rate, year):\n",
        "  FV = presentvalue*(1+rate)**year\n",
        "  return FV\n",
        "\n",
        "## Variables\n",
        "# Initial investment\n",
        "PV = 1000\n",
        "# Interest rate\n",
        "r = 0.05\n",
        "# Number of periods\n",
        "n_year = 10\n",
        "\n",
        "## Calculate future value\n",
        "F = futurevalue(PV, r, n_year)\n",
        "\n",
        "print(\"Future value of investment: ${:.2f}\".format(F))"
      ],
      "metadata": {
        "id": "M6ufOGetryPn"
      },
      "execution_count": null,
      "outputs": []
    },
    {
      "cell_type": "code",
      "source": [
        "## Let us create a function for calculating future value\n",
        "## This is similar to the formula P(F/P,i,n)  - Future value given present value\n",
        "\n",
        "## Function\n",
        "FOP_compound = lambda P,r,n : P * (1 + r) ** n\n",
        "\n",
        "## Variables\n",
        "# have been defined above\n",
        "\n",
        "## Calculate future value\n",
        "F = FOP_compound(PV,r,n_year)\n",
        "\n",
        "print(\"Future value of investment: ${:.2f}\".format(F))"
      ],
      "metadata": {
        "id": "0ebTRiN_r1Dd"
      },
      "execution_count": null,
      "outputs": []
    },
    {
      "cell_type": "markdown",
      "source": [
        "**Now Your Turn!**\n",
        "\n",
        "Create a function that returns present value for a compound interest case. Then, calculate present value, P, with F = 1200 with rate = 5% and n = 10 year.\n",
        "\n",
        "Remember the steps:\n",
        "1. Define a function and required parameter\n",
        "2. Define the input variables\n",
        "3. Use the function to calculate the result"
      ],
      "metadata": {
        "id": "dx9WBBPCs8SB"
      }
    },
    {
      "cell_type": "code",
      "source": [
        "## Function\n",
        "def presentvalue(futurevalue, rate, year):\n",
        "  # write your formulation here\n",
        "  #PV =\n",
        "  return #PV\n",
        "\n",
        "## Variables\n",
        "# Future value\n",
        "FV = 1200\n",
        "# Interest rate\n",
        "r = 0.05\n",
        "# Number of periods\n",
        "n_year = 10\n",
        "\n",
        "## Calculate future value\n",
        "# P = presentvalue(FV, r, n_year)\n",
        "\n",
        "# print(\"Present value: ${:.2f}\".format(P))\n"
      ],
      "metadata": {
        "id": "dA104xuXtAdE"
      },
      "execution_count": null,
      "outputs": []
    },
    {
      "cell_type": "markdown",
      "source": [
        "<a name=\"ss3\"></a>\n",
        "## Annuity Problems"
      ],
      "metadata": {
        "id": "blxFzsIasFZ1"
      }
    },
    {
      "cell_type": "markdown",
      "source": [
        "### Problem 1\n",
        "\n",
        "Let us consider this problem.\n",
        "\n",
        "1. Given P = 1000 and interest rate = 5%, what is the annual equivalent value of investment for 10 years?\n",
        "\n",
        "![image.png](data:image/png;base64,iVBORw0KGgoAAAANSUhEUgAABTwAAAKwCAYAAAC1RrC6AAAAAXNSR0IArs4c6QAAAARnQU1BAACxjwv8YQUAAAAJcEhZcwAAHYcAAB2HAY/l8WUAADHASURBVHhe7d0/jBzrmhfgmRUZiJU25U8CAQLEpmiOR3dl6WBnSBCiJScDnZWHwMlKE2CLAyRARgAiBIlsrIOsuxofQ3pXCyK4ECCIkFa6CDKE8Xummml/ru6urvre7p63n0dqnZo/bnf9XH2q6tffV3X56bMLAAAAAIACfm34LwAAAADAk6fwBAAAAADKUHgCAAAAAGUoPAEAAACAMhSeAAAAAEAZCk8AAAAAoAyFJwAAAABQhsITAAAAAChD4QkAAAAAlKHwBAAAAADKUHgCAAAAAGUoPAEAAACAMhSeAAAAAEAZCk8AAAAAoAyFJwAAAABQhsITAAAAAChD4QkAAAAAlKHwBAAAAADKUHgCAAAAAGUoPAEAAACAMhSeAAAAAEAZCk8AAAAAoAyFJwAAAABQhsITAAAAAChD4QkAAAAAlKHwBAAAAADKUHgCAAAAAGUoPAEAAACAMhSeAAAAAEAZCk8AAAAAoAyFJwAAAABQhsITAAAAAChD4QkAAAAAlKHwBACAoj58+HBxeXn5xePly5fDT1lCtjnkmke2wDlReAIAQFG3t7fD0qN37979VHywjGxzyDWPbJeLgrgtjeUHp0nhCQAARUWZMebjx4/DEnPJNodc88h2mSg2xzIcK5KB41N4AnQUB0Ltp76mCvXjU/X+bLO5bLMc09u3b4elr93c3AxLzCHbHHLNI9vlNhXDm4pk4LgUngAdmSqUJzL0qXp/ttk8ttk+Ise2NFbKT/P+/fth6eLixYsXw9Ij7/P5ZJtDrnlku9y2YnhboQwch8IToKNNn/CaKrScT9Vz2Gbz2Gb7UMrPE/msb2vPnz+/ePPmzfDVA+/zeWSbQ655ZLtcu89pS+P1Qhk4DZefPhuWAVggPtnd9smv/90uE6O6NomD9levXg1fMZVtNpdtto9NOcpwuxgFu15wxPs5Ttivr6+H7zzwPt+fbHPINY9slxvLsN0/yQ9OixGeAJ2YKpSnzc6n6n3YZvPYZvtwzbn51k/MV9vfs2fPfvrvOu/z/ck2h1zzyHaZyGU9w9Xo2Hbfblo7nBaFJ0AH7YGQqUJ9tVNa7+7uhqUH69kzjW02l222D6X8PO1Jd7y/V9r3eTvCi+1km0OueWS7XHs8dHV19dN/17MMPsyE06LwBOigLTdimuXqYGjFaKR5fKqewzabxzbbh1J+vvake33qf/s+D4rj6WSbQ655ZLtcezy0Gh27nmWIfZZ9O5wOhSdAB+sn5aYK9eVT9Ry22Ty22T6U8vONvb9Xxt7niuPpZJtDrnlku0x7HNR+8NZmat8Op0PhCbCQqUK5fKren202l222j7GT9LGTc6X8l7a9v1fa97nieBrZ5pBrHtkut+lDzJU20/V9F3BcCk+AhUwVyuNT9Ry22Ty22T62naS3mSrlv7Tt/b3ifT6PbHPINY9sl9v0IebKWKbtPgw4DoUnwEKmCuXxqXoO22we22wf207SnZxvt+39veJ9Po9sc8g1j2yXafct7QduK2227T4MOA6FJ8ACpgrl8ql6f7bZXLbZPradpDs532zK+3vF+3w/ss0h1zyyXa7dt4x94BbabNf3YcDxKDwBFjBVKI9P1XPYZvPYZvuYcpLu5Hxcuy1tOjkP3uf7kW0OueaR7XLtvmXsA7fgw0w4TQpPgAVMFcrjU/Ucttk8ttk+2pN0pfx07ba06eQ8eJ/vR7Y55JpHtsu0+5RNx0wrPsyE06PwBJjJVKFcPlXvzzabyzbbx/pJulJ+unYb2nVyHrzPp5FtDrnmke1y7T5l2zFT8GEmnB6FJ8BMpgrl8al6DttsHttsH+1JulJ+unYb2nVyHrzPp5FtDrnmke1y7T5lLJ91PsyE06PwBJjJVKE8PlXPYZvNY5vtoz1J33aC6eT8UZxUt9vQ2Ml3y/t8N9nmkGse2S43ti8Zy6flw0w4LZefPhuWAZgoDibXP/mNA5y7u7vhq3Htnwn+Fzzu8vJyWHpwf3+/80Cz/TMx+mvKAf65sM3mss320Waya3uT4YOXL19+UXDE+/v169fDV9vd3t5+VY54nz+SbQ655pHtcnP3LY6b4LQoPAFmaA8mpxwIxafF19fXw1cPppQi52Yspym7qrED/F2F3jmxzeaxzfahlJ+vPTlfyvv8kWxzyDWPbJcZ26fHMdOuKe0rY3/23D/MhGMxpR1gT3GC3X76PeVAZuxg0TSsr40dKE5hivBmttlcttk+XHNunnh/99Zu0+dKtjnkmke2y40d58QHa5HDlEfLtHY4HiM8AfZkqlAen6rnsM3msc32ESfpc0dqzp16WEX7/u7FiDnZZpFrHtku13uEbHA8Cseh8ATYk6lCecZKjyVMa39gm81jm+1DKT9fj8J3U3F/7ifoss0h1zyyXWZs3XtwPArHofAE2EPvcmPF/4of9C7mwrmfANlmc9lm++id47mU8ktGxrbG/g3O+X0u2xxyzSPb5XplODbS9py3TTgW1/AE2EPWdXjiE+Vzl5XBuV87yTabxzbbR5xg9pYxQucUtdtKjCKaK4r21jm/z2WbQ655ZLtcW3aO5TDF2DWoM/Z1wHYKT4A9tJ/WxoFQfGK7zyNGHrXcCGY8g7H8dj3aA/yMa1k9JbbZPLbZPrIK3nM4OW+3lSVTJsdGFZ/z+1y2OeSaR7bLjO0zpl6PuzWWX9a+DthM4Qkw0dgns2MHNLuMTbNsP1E+Rz5V7882m8s220d7kq6Un6bdRpaM5lppt+FzfZ/LNodc88h2uXafEeu/5NIobX7tvg7Ip/AEmMhUoTw+Vc9hm81jm+1jrNhVyk/TbiNjxfm+xrbhc3yfyzaHXPPIdrl2nzF3n74yti8b2+cBeRSeABOZKpTHp+o5bLN5bLN9tCfpSvnp2m1kTlHcGtuGz/F9Ltsccs0j22XG9hVL9ukr7T6t3ecBuRSeABOYKpTLp+r92WZz2Wb7aE/SlfLTtCfnPd7fK+3lAc7tBF22OeSaR7bLtfuKsQ/Q5mhH2rb7PCCXwhNggvYAz1ShfsbW2afqy9lm89hml4syVyk/X2xv69cwXVIUtzKf+ymQbQ655pHtcu3+dumHmCvxQVy7bzvH4yY4FoUnwASmCuXxqXoO22we2+xycXKplAfgFESRu17sjh3vzJX53MB2Ck+AHdqTZVOF+vKpen+22Vy22eWizFXKAwCQ5fJTfMwAAAAHECXu9fX18NWDKHp7TZVsn7/ncwMA8DQoPAEAAACAMkxpBwAAAADKUHgCAAAAAGUoPAEAAACAMhSeAAAAAEAZCk8AADgTv/wfvz8s0Ztsc8g1j2yByhSeAABwJv7x/athid5km0OueWS7jMIYTpvCEwAAzsDdf/wXX/yXfmSbQ655ZLucwhhOm8ITIJFPfvPINodc88iWY3v3n/7lF/+lH9nmkGse2S6jMIbTp/AESOST3zyyzSHXPLLtQ3E8T3tS7iS9H9nmkGse2S6nMIbTp/AESLI6eHQQ2Z9sc8g1j2z7URzP056UO0nvR7Y55JpHtsu0+3L7djhNCk+AJKuDRweR/ck2h1zzyLYPxfE8m/KS43KyzSHXPLJdrt2X27fDaVJ4AiRoDxodRPYj2xxyzSPbfhTH82zKS47LyTaHXPPIdplN+3D7djg9Ck+ABO1Bo4PIfmSbQ655ZNuH4nieXTnJcT7Z5pBrHtkut2kfbt8Op0fhCdDZpoNFB5HLyTaHXPPIth/F8Ty7cpLjfLLNIdc8sl1m177bvh1Oi8IToLNNB4sOIpeTbQ655pFtH4rjeabmI8f9yTaHXPPIdrld+277djgtCk+AjnYdJDqInE+2OeSaR7b9KI7nmZqPHPcn2xxyzSPbZabus+3b4XQoPAE62nWQ6CByPtnmkGse2fahOJ5n31zkOJ1sc8g1j2yXm7rPtm+H06HwBOhk6sGhg8j9yTaHXPPIth/F8Tz75iLH6WSbQ655ZLvMvvtq+3Y4DQpPgE6mHhw6iNyfbHPINY9s+1AczzM3DznuJtsccs0j2+X23Vfbt8NpUHgCdLDvQaGDyOlkm0OueWTbj+J4nrl5yHE32eaQax7ZLjN3H23fDsen8AToYN+DQgeR08k2h1zzyLYPxfE8S3OQ42ayzSHXPLJdbu4+2r4djk/hCbDQ3INBB5G7yTaHXPPIth/F8TxLc5DjZrLNIdc8sl1m6b7Zvh2OS+EJsNDcg0EH6LvJNodc88i2D8XxPL3W30n612SbQ655ZLvc0n2zfTscl8ITYIGlB4EO0DeTbQ655pFtP4rjeXqtv5P0r8k2h1zzyHaZXvtk+3Y4HoUnwAJLDwIdoG8m2xxyzSPbPhTH8/Rebyfpj2SbQ655ZLtcr32yfTscj8ITYKZeB38O0L8m2xxyzSPbfhTH8/Rebyfpj2SbQ655ZLtM732xfTsch8ITYKZeB38O0L8m2xxyzSPbPhTH82Str5N02WaRax7ZLtd7X+y4CY5D4QkwQ++DPgfoj2SbQ655ZNuP4nierPV1ki7bLHLNI9tlsvbBjpvg8BSeADP0PuhzgP5Itjnkmke2fSiO58lez3M+SZdtDrnmke1yWftgx01weApPgD1lHeyd8wH6imxzyDWPbPtRHM+TvZ7nfJIu2xxyzSPbZbL3vY6b4LAUngB7yjrYO+cD9BXZ5pBrHtn2oTie51Drd44n6bLNIdc8sl0ue9/ruAkOS+EJsIfsg7xzPEBfkW0OueaRbT+K43kOtX7neJIu2xxyzSPbZQ61zz3n4yY4NIUnwB6yD/LO8QB9RbY55JpHtn0ojuc59Hqd00m6bHPINY9slzvUPvecj5vg0BSeABMd6uDunA7QV2SbQ655ZNuP4nieQ6/XOZ2kyzaHXPPIdplD72vP8bgJjkHhCTDRoQ7uzukAfUW2OeSaR7Z9KI7nOdb6nMNJumxzyDWPbJc79L72HI+b4BgUngATHPqg7hwO0Fdkm0OueWTbj+J4nmOtzzmcpMs2h1zzyHaZY+1jz+m4CY5F4QkwwaEP6s7hAH1Ftjnkmke2y8WJnuJ4nmOvR+WTdNnmkGse2S53rH3sOR03wbEoPAF2ONbBXOUD9BXZ5pBrHtn2ESd6iuN5jr0elU/SZZtDrnlku8yx963ncNwEx6TwBNjhWAdzlQ/QV2SbQ655ZLvcMU/wnvrJ5am8/oon6bLNIdc8sl3u2PvWczhugmNSeAJsceyDuIoH6CuyzSHXPLLt45gneE/95PJUXn/Fk3TZ5pBrHtkucyr71MrHTXBsCk+ALY59EFfxAH1Ftjnkmke2y53Cid1TPbk8tddd6SRdtjnkmke2y53KPrXycRMcm8ITYINTOXirdIC+Itsccs0j2z5O4cTuqZ5cntrrrnSSLtsccs0j22VObV9a8bgJToHCE2CDUzl4q3SAviLbHHLNI9vlTumE7qmdXJ7q661wki7bHHLNI9vlTm1fWvG4CU7B5afPhmUABnHQdkoHHy/+3N+4ePnnf3v46mmTbQ655pFtH3/nX78clk7DP/xrd8PS6ZtTJMzZZmPb2tdTf5/LNodc88h2mVPbp6881X07nDKFJ8CIUzsxD0/p5Hwb2eaQax7ZLneKJ5jVTy7nbLdV3rPZZJtDrnlk+0hhDOdD4QnQ8MlvHtnmkGse2fZxiqVxqFyWKDjyyDaHXPPIdhn5wdOk8ARo+OQ3j2xzyDWPbJc71dI4PLXieB9O0PPINodc88h2GfnB06TwBOjAgVAe2eaQax7ZfmlOaRwUx8vYDvPINodc88h2GfnB06TwBOjAgVAe2eaQax7Z9iHHZeSXR7Y55JpHtsvID56mXxv+CwAAAADw5Ck8AQAAAIAyFJ4AAAAAQBkKTwAAAACgDIUnAAAAAFCGwhMAAAAAKEPhCQAAAACUofAEAAAAAMpQeAIAAAAAZSg8AQAAAIAyFJ4AAAAAQBkKTwAAAACgDIUnAAAAAFCGwhMAAAAAKEPhCQAAAACUofAEAAAAAMpQeAIAAAAAZSg8AQAAAIAyFJ4AAAAAQBkKTwAAAACgDIUnAAAAAFCGwhMAAAAAKEPhCQAAAACUofAEAAAAAMpQeAIAAAAAZSg8AQAAAIAyFJ4AAAAAQBkKTwAAAACgDIUnAAAAAFCGwhMAAAAAKEPhCQAAAACUofAEAAAAAMpQeAIAAAAAZSg8AQAAAIAyFJ4AAAAAQBkKTwAAAACgDIUnAAAAAFCGwhMAAAAAKEPhCQAAAACUofAEAAAAAMpQeAIAAAAAZSg8AQAAAIAyFJ4AAAAAQBkKTwAAAACgDIUnAAAAAFCGwhMAAAAAKEPhCQAAAACUofAEAAAAAMpQeAIAAAAAZSg8AQAAAIAyFJ4AAAAAQBkKTwAAAACgDIUnAAAAAFCGwhMAAAAAKEPhCQAAAACUofAEAAAAAMpQeAIAAAAAZSg8AQAAAIAyFJ4AAAAAQBkKTwAAAACgDIUnAAAAAFCGwhMAAAAAKEPhCQAAAACUofAEAAAAAMpQeAIAAAAAZSg8AQAAAIAyFJ4AAAAAQBkKTwAAAACgDIUnAAAAAFCGwhMAAAAAKEPhCQAAAACUofAEAAAAAMpQeAIAAAAAZSg8AQAAAIAyFJ4AAAAAQBkKTwAAAACgDIUnAAAAAFCGwhMAAAAAKEPhCQAAAACUofAEAAAAAMpQeAIAAAAAZSg8AQAAAIAyFJ4AAAAAQBkKTwAAAACgDIUnAAAAAFCGwhMAAAAAKEPhCQAAAACUofAEAAAAAMpQeAIAAAAAZSg8AQAAAIAyFJ4AAAAAQBkKTwAAAACgDIUnAAAAAFCGwhMAAAAAKEPhCQAAAACUofAEAAAAAMpQeAIAAAAAZSg8AQAAAIAyFJ4AAAAAQBkKTwAAAACgDIUnAAAAAFCGwhMAAAAAKEPhCQAAAACUofAEAAAAAMpQeAIAAAAAZSg8AQAAAIAyFJ4AAAAAQBkKTwAAAACgDIUnAAAAAFCGwhMAAAAAKEPhCQAAAACUofAEAAAAAMpQeAIAAAAAZSg8AQAAAIAyFJ4AAAAAQBkKTwAAAACgDIUnAAAAAFCGwhMAAAAAKEPhCQAAAACUofAEAAAAAMpQeAIAAAAAZSg8AQAAAIAyFJ4AAAAAQBkKTwAAAACgDIUnAAAAAFCGwhMAAAAAKEPhCQAAAACUofAEAAAAAMpQeAIAAAAAZSg8AQAAAIAyFJ4AAAAAQBkKTwAAAACgDIUnAAAAAFCGwhMAAAAAKEPhCQAAAACUofAEAAAAAMpQeAIAAAAAZSg8AQAAAIAyFJ4AAAAAQBkKTwAAAACgDIUnAAAAAFCGwhMAAAAAKEPhCQAAAACUofAEAAAAAMpQeAIAAAAAZSg8AQAAAIAyFJ4AAAAAQBkKTwAAAACgDIUnAAAAAFCGwhMAAAAAKEPhCQAAAACUofAEAAAAAMpQeAIAAAAAZSg8AQAAAIAyFJ4AAAAAQBkKTwAAAACgDIUnAAAAAFCGwhMAAAAAKEPhCQAAAACUofAEAAAAAMpQeAIAAAAAZSg8AQAAAIAyFJ4AAAAAQBkKTwAAAACgDIUnAAAAAFCGwhMAAAAAKEPhCQAAAACUofAEAAAAAMpQeAIAAAAAZSg8AQAAAIAyFJ4AAAAAQBkKTwAAAACgDIUnAAAAAFCGwhMAAAAAKEPhCQAAAACUofAEAAAAAMpQeAIAAAAAZSg8AQAAAIAyFJ4AAAAAQBkKTwAAAACgDIUnAAAAAFCGwhMAAAAAKEPhCQAAAACUofAEAAAAAMpQeAIAAAAAZSg8AQAAAIAyFJ4AAAAAQBkKTwAAAACgDIUnAAAAAFCGwhMAAAAAKEPhCQAAAACUofAEAAAAAMpQeAIAAAAAZSg8AQAAAIAyFJ4AAAAAQBkKTwAAAACgDIUnAAAAAFCGwhMAAAAAKEPhCQAAAACUofAEAAAAAMpQeAIAAAAAZSg8AQAAAIAyFJ4AAAAAQBkKTwAAAACgDIUnAAAAAFCGwhMAAAAAKEPhCQAAAACUofAEAAAAAMpQeAIAAAAAZSg8AQAAAIAyFJ4AAAAAQBkKTwAAAACgDIUnAAAAAFCGwhMAAAAAKEPhCQAAAACUofAEAAAAAMpQeAIAAAAAZSg8AQAAAIAyFJ4AAAAAQBkKTwAAAACgDIUnAAAAAFCGwhMAAAAAKEPhCQAAAACUofAEAAAAAMpQeAIAAAAAZSg8AQAAAIAyFJ4AAAAAQBkKTwAAAACgDIUnAAAAAFCGwhMAAAAAKEPhCQAAAACUofAEAAAAAMpQeAIAAAAAZSg8AQAAAIAyFJ4AAAAAQBkKTwAAAACgDIUnAAAAAFCGwhMAAAAAKEPhCQAAAACUofAEAAAAAMpQeAIAAAAAZVx++mxYBmCin//858PSg3/zh39vWJrur/7G3x2W2Ea2OZ5yru3779T86i/9+2Fpul///b88LLEix2X+zx/9n8PSdH/kf//xYWm73/u93xuWztMf+xP7jxn5X//9/w5LbCLXaebsA//kX/iNYWm6//Yf/nBY4m//qxfD0nT/6K+/G5YeqF3g8BSecGSXl5fDEk9ZjwMhxsk2h1zzyLYPOQJwCnoUxmoXODxT2gEAAABGRHm57wM4PiM84ciM8KzBVKE8ss0h1zyy7cMITwCqULvA4Sk84cgUngDwNcUxAFWoXeDwFJ5wIP/83X8dlr70u7/7u8PS1/7Lv/tnwxIAAABPkdoFDk/hCQfy7Xc/DkvT/dt/8GxYAgAA4ClSu8DhuWkRAAAAAFCGEZ5wIEZ41vJbv/VbwxJwaD/72c+GJeAY7APheLz/AKZReMKBzCk8f/j+m2EJAAAAgClMaQcAAAAAylB4AgAAAABlKDwBAAAAgDIUngAAAABAGQpPAAAAAKAMhScAAAAAUIbCEwAAAAAoQ+EJAAAAAJSh8AQAAAAAylB4cnbevn178fLly58el5eXXzzie/HzDx8+DL8NAAAAwFNy+emzYRlKixLz9vb24t27d8N3tnvz5s3Fq1evhq+W+/a7H4el6X74/pthCQAAAIApjPDkLETZeX19PbnsDDc3Nz+N+AQAAADg6TDCk/JWZWfrxYsXF8+fPx++eig4x8Tv3d3dDV/NZ4QnAAAAQD6FJ+XFtTnXRYH5+vXri2fPng3febRp2vv9/f3o7+9D4QkAAACQz5R2Shubkh6jNTeVl/H9KENbUYICAAAAcPoUnpTWjtSMGxHtEqVnjOhcF8/jzu0AAAAAp0/hSVlv374dlh7EVPapd10fGwH68ePHYQkAAACAU6XwpKz3798PSw/Wb1A0RTsatH0+AAAAAE6PwhMmaqfHAwAAAHB6FJ6U1RaUU6ezr1xdXQ1LAAAAnLu4bNrl5eX/f/QSzxs33I3H+vPHI74XP3dPCdiPwpOSsnYGdjIAAADnJc4Do3y8ubkZvvNg6flh/PkoNON5Y8DO2KzC+F78/Pr6+qv7VACbKTxhg7EbFwEAAHA+omSMsrG3KDvjefe5dFoUn1GQArspPCmpvaN63KEdAAAAptg0qrOHVdnZivPWuHnu6jEmClKlJ+ym8AQAAAAYZI3qXGmfO4rO+/v7i7u7u5/uPbF6fPr06afvtwN4ovRcOp0eqlN4AgAAAHy2uqbmulUh2cPY6MwoOjddUi2+//r16+GrR7e3t8MSMEbhCQAAAJy9GNnZXlNzNfKy1z0e2uffNHV9XfzdbeFqlCdsp/AEAAAAWLMa1dnzZrbtXdbj74ip61OMvY723hXAI4UnZ6H9FA0AAADG9B7VufL+/fth6cHz58+HpWna0aDt8wGPFJ6UdHV1NSwBAADAbqsbBfUuOrMY2AObKTxhD09lxwcAAMBpaQvKqdPZVwzsgekUnpyNfS/o7ALQAAAA9JB1fum8FcYpPCmpx0jM9gLQcUFpAAAAOAYzDmE6hSdnY9872C29oDQAAAAEA2rgsBSelNXewe7m5mZYmsYFoAEAAACeHoUnZY1d0Hnq9U3evn07LD2IT9/2vaA0AAAAAIen8KSsseubXF9fD0ubRSnajgY1nR0AAADgaVB4Utr9/f2w9Ojly5cbR3rG99tS1OhOAAAAgKdD4UlpMcqzvRh0XJszSs0oPmPq+uoRX4+NAH39+vWwBAAAAMu5ZwTkuvz02bAMZUWZOWeHEiNEx6bGz/Htdz8OS9P98P03wxIAAADHdHl5OSw92Od8cWw24Zw6ZslrgHNihCdn4e7u7qu7tm8To0LtOAAAADhlzllhnMKTsxHX4YwSM4rPdpp7iO/Fz+J3oiC14wAAACDLpntLbLLv78M5U3hyVqLEjOIzCs2YPrD+iO/FzxSdAAAA9NTjPPPjx4/D0oOxgTzAA4UnAAAAwIG1BeYu79+/H5YePH/+fFgCWgpPAAAAgGTtfSVubm6GpWnc2R2mU3gCAAAAJLu6uhqWHk29Lufbt2+HpQcxnT0uyQaMU3gCAAAAJBu7juf19fWwtFmUou1oUNPZYTuFJwAAAMAB3N/fD0uPXr58uXGkZ3y/LUWN7oTdLj/F7amBdN9+9+OwNN0P338zLAEAAJCtnTq+rh1lGcXj2EjLmLq+7a7sUXCOXY+zfb64SdHY70Vp2uOu71CZwhMOROEJAABwusZGU84RxeXd3d3w1bhNpecuyk6YxpR2AAAAgAOKQrS9a/s2UaIqO2E6hScAAABw9nqViVNvKBTX4YwSM4rPKDRb8b34WfxOFKTKTpjOlHY4EFPaAQAAAPIZ4QkAAAAAlKHwBAAAAADKUHgCAAAAAGUoPAEAAACAMhSeAAAAAEAZCk8AAAAAoAyFJwAAAABQhsITAAAAAChD4QkAAEW9fPny4vLy8qfHhw8fhu8CANSm8AQAYKcoy6I8i8fbt2/PojyLdVyVhXMekdVUkel6Obn680tyjj//7t274auLi2fPng1LAAC1XX76bFgGEn373Y/D0nQ/fP/NsAQAx9WWZ6H6YWSUkDc3N8NX8+zKKArN29vbr7Jd9+LFi4u7u7vhq2niea+vr4evLi7evHlz8erVq+ErAIDajPAEAGCnbYUc80UpuZ5tFJPxiJJzJX6+z2jRsF52xnMpOwGAc2KEJxyIEZ4APGUxxbp1biM8o4jcx9XV1dZp5OujZsdGcbajNO/v7ydNS29H4zrcBwDOjcITDkThCcBTNrd8e8rawrP3Oq+XyJumnE/5nXXZrxkA4CkwpR0AgJ2iNIvPyVcPJdoy7c2INhWZ66NKp1xPdP13YtSofycA4BwpPAEA4MA+fvw4LPXTXudz3xsdAQBUofAEAIATFdcBnSKmsq9ftzOmsgMAnCuFJwAAPGExPd5UdgCARwpPAAB2ihGEcQOd1aO9BiU5pkx9v729HZbG7/YOAHBuFJ4AAOwt4xqU56Sdqj6lQI4ys9VOZX/9+vWwBABwvi4/xW02gXTffvfjsDTdD99/MywBwHFFsbY+bTruHr7pzuL7irKvZ4Ha63W16xzXxew1VTzW+fr6evhq83PHjYhWhWY7erN9jp7/JgAAT5nCEw5E4QnAU5ZZeMYU+Z56FZNj6zx2E6G5f9d6mRnaw/K20Gx/vq0MBQA4Z6a0AwDABFF+RgHZPlbXNY0CMkrSqdrp5/Ec8efjEc8Vz73STmdvy1JT2QEAHik8AQA4qrFrUy5xrDuURwEZpWiUkVOuyRmvM0ajros/H4/1MnNsKvv6z2Pk6bHWGQDgFCk8AQA4qijzYrp2r8exRRkZozOj+NxlVXpGadmKojN+1k5Vb0d+um4nAMCXFJ4AADAiisQoHFePsXJ1VVaOjVKN4nPqSM/4u9rnjqKzHbnZlqhtGRp/X/xOPFZT7VdT5ae8FgCAChSeAACwQRSOq8eYVVkZxePYKM310ZhLjU1lXxelZvx98TvrvxdW1x/d5xqjAABPlcITAAA6iOJzrPTsVTJum8oeZWiUmivx83gt7euJ3zHSEwCoTuEJAACdrJeQK+/fvx+W5ts1lb0tQ+Pn8VriEdPj16fc9xx1CgBwihSeAADQ0dj1PJeIEaLrU9TjuqHr2hGkbRkaXr9+PSw9MMoTAKhM4QkAwFG1N9hZ+jh2mff8+fNh6UF7Pc19tVPV2+uJro8g3VS2tn/m48ePwxIAQD0KTwAAjmppIVjZrqns++g98hQA4FQpPAEAINHconHXVPYx7ejSTXpcVxQA4FRdfoqrmAPpvv3ux2Fpuh++/2ZYAoDjivJtfWp13P177AY9c8QU9J5TrHu9rrliWv26OVlFJmM3IhoTo0BXxei2v2v997Y9HwDAU6fwhANReALwlGUWnpW0RWWIkZntNTR32aecVHgCAHzJlHYAAOhgrOwM+5ad7VT29g7rrfVp7FOnqk+d+g4A8BQpPAEAoBHT0mNEZJSPU8TvjZWdU667uS5K03Yk7T6F6XpR2lr/mdG5AEBlCk8AABgRBWGUj6vyc1WArj/ie/Hz9ZJyZc5U9tvb22HpYdr5lGLy6upqWHoQr6m1/r14XgCAylzDEw7ENTwBeMqi3Duna3i2Nx7a19LrdoZ9nqP99wnxbxRimvvc5wUAeIqM8AQAgEaUgnNGQkbJOKdQjKns66XkvlPZo3xuX28UoPFQdgIA50bhCQDATu206eqiFIy7mMdkqCgfo0zcVIDGz1dFZxSPcwrFOVPZW/F64zXEa1kXzxffi3VRdgIA58CUdjgQU9oBgDHrd3ePcjKKSwAA5jPCEwAAjihGXcYYhHgoOwEAllN4AgAAAABlKDwBAAAAgDIUngAAAABAGQpPAAAAAKAMhScAAAAAUIbCEwAAAAAoQ+EJAAAAAJSh8AQAAAAAylB4AgAAAABlKDwBAAAAgDIUngAAAABAGQpPAAAAAKAMhScAAAAAUIbCEwAAAAAoQ+EJAAAAAJSh8AQAAAAAylB4AgAAAABlKDwBAAAAgDIUngAAAABAGQpPAAAAAKAMhScAAAAAUIbCEwAAAAAoQ+EJAAAAAJSh8AQAAAAAylB4AgAAAABlKDwBAAAAgDIUngAAAABAGQpPAAAAAKAMhScAAAAAUIbCEwAAAAAoQ+EJAAAAAJSh8AQAAAAAylB4AgAAAABlKDwBAAAAgDIUngAAAABAGQpPAAAAAKAMhScAAAAAUIbCEwAAAAAoQ+EJAAAAAJSh8AQAAAAAylB4AgAAAABlKDwBAAAAgDIUngAAAABAGQpPAAAAAKAMhScAAAAAUIbCEwAAAAAoQ+EJAAAAAJSh8AQAAAAAylB4AgAAAABlKDwBAAAAgDIUngAAAABAGQpPAAAAAKAMhScAAAAAUIbCEwAAAAAoQ+EJAAAAAJSh8AQAAAAAylB4AgAAAABlKDwBAAAAgDIUngAAAABAGQpPAAAAAKAMhScAAAAAUIbCEwAAAAAoQ+EJAAAAAJSh8AQAAAAAylB4AgAAAABlKDwBAAAAgDIUngAAAABAGQpPAAAAAKAMhScAAAAAUIbCEwAAAAAoQ+EJAAAAAJSh8AQAAAAAylB4AgAAAABlKDwBAAAAgDIUngAAAABAGQpPAAAAAKAMhScAAAAAUIbCEwAAAAAoQ+EJAAAAAJSh8AQAAAAAylB4AgAAAABlXH76bFgGJvrFL381LE33O//0D4al6f7+3/qLw9J0v/lnf31YAgAAADg/Ck+Y4Xf+yR9c/OI/7196Zvvtv/KnLv7miz89fAUAAABwfkxphxmiWDxFyk4AAADg3Ck8YYaYNv6bf+a0po6fagkLAAAAcEgKT5jp1ApGozsBAAAAFJ4w2ymN8jS6EwAAAOCBwhMWOJWi0ehOAAAAgAcKT1jgFEZ5Gt0JAAAA8EjhCQsdu3A0uhMAAADgkcITFjrmKE+jOwEAAAC+pPCEDo5VPBrdCQAAAPAlhSd0cIxRnkZ3AgAAAHxN4QmdHLqANLoTAAAA4GsKT+jkkKM8je4EAAAAGKfwhI4OVUQa3QkAAAAwTuEJHR1ilKfRnQAAAACbKTyhs+xC0uhOAAAAgM0UntBZ5ihPozsBAAAAtlN4QoKsYtLoTgAAAIDtFJ6QIGOUp9GdAAAAALspPCFJ74LS6E4AAACA3RSekKTnKE+jOwEAAACmUXhCol5FpdGdAAAAANMoPCFRj1GeRncCAAAATKfwhGRLC0ujOwEAAACmU3hCsiWjPI3uBAAAANiPwhMOYG5xaXQnAAAAwH4UnnAAc0Z5Gt0JAAAAsD+FJxzIvgWm0Z0AAAAA+1N4woHsM8rT6E4AAACAeRSecEBTi0yjOwEAAADmUXjCAU0Z5Wl0JwAAAMB8Ck84sF2FptGdAAAAAPMpPOHAto3yNLoTAAAAYBmFJxzBpmLT6E4AAACAZRSecARjozyN7gQAAABYTuEJR9IWnEZ3AgAAACyn8IQjWR/laXQnAAAAQB8KTziiVdFpdCcAAABAH5efPhuWgSP4xS9/9dNoTwAAAACWU3gCAAAAAGWY0g4AAAAAlKHwBAAAAADKUHgCAAAAAGUoPAEAAACAMhSeAAAAAEAZCk8AAAAAoAyFJwAAAABQhsITAAAAAChD4QkAAAAAlKHwBAAAAADKUHgCAAAAAGUoPAEAAACAMhSeAAAAAEAZCk8AAAAAoAyFJwAAAABQhsITAAAAAChD4QkAAAAAlKHwBAAAAADKUHgCAAAAAGUoPAEAAACAMhSeAAAAAEAZCk8AAAAAoAyFJwAAAABQhsITAAAAAChD4QkAAAAAlKHwBAAAAADKUHgCAAAAAGUoPAEAAACAMhSeAAAAAEAZCk8AAAAAoAyFJwAAAABQhsITEr18+fLi8vJy0iN+9+3btxcfPnwY/vTTEa95fV1jPXqI543nGssxvrfKbKnV37Hp7+nx73KodQEAAIBzd/nps2EZ6CzKrLnu7+8vnj17Nnx1uqKoe/fu3fDVgxcvXlzc3d0NX80T5d/Nzc3w1Xbx971+/XrvvKKEvL29/er1b/LmzZuLV69eDV9Nd4h1AQAAAB4oPCHRksIzzC3YDmFbWbi08BwrUafYpySO1399fT18Nd2+63aIdQEAAAAeKTwhUVt4Rln2/Pnz4atH79+/31iKnWLxtavEW1J4bnruKH9Xlua1qexs/302jcqcun6HWBcAAADgSwpPSNQWnrsKrE1Tn0+l+Jo6BXxu4Tm2/ttGuY79/pS/e6yI3jSNfNM6z/m3zFgXAAAA4EsKT0i0b+EZxkYfnsLU9k2jIlejFdfLujlF3dz1HhtFuS3nsd/f9b/Bsde2bR0PtS4AAADA19ylHU5MlFtRpq1rR/4dw1jhF0VhryL248ePw9KjKc8dpWObV4zI3KQtFFeF7TbxbxLF47p4nig2xxxqXQAAAICvKTzhBMX06tamcu0YoiTsPdW6LXXbgnGb9rqobam5EtPG10W5OLWwHRtlOVZshkOsCwAAADBO4QlM1ntU58pYmbvPNO6x1zP2nHGDoHVjN5Daph0N2j5fONS6AAAAAOMUnnCC9inIDiWKzt6jOjNtGn3Z06FGXx5iXQAAAKAKhSdwdG2hN+W6mq322pdj2oJy35GqV1dXw9Jmh1oXAAAAYJy7tEOiOXdpDzGFub1J0Nifjd/rOfpv7lT1uDbmkru0t3cnj5Jw39fSPkf7GsYy3fd/f1P+XQ6xLgAAAMBmCk9INLfwbAvEMPZWbZ9/qamvr3UKheeu19Cj8Ay7/k0PsS4AAADAZqa0wwlqy84ovCpbLwjDlKnj+2pHwmZleoh1AQAAADZTeMKJiRGCrdevXw9LX+pd2s0Z3QkAAABwShSecELa6dAhSs1NRWRMc45p2b0eAAAAAE+dwhMOKKZVx/UZ20cUnXFtyLGy07UbAQAAAKZTeMIBxbU5xx5t0RmUnQAAAAD7U3jCCYo7e59z2dneYCjDWMmc4RDrAgAAADxSeMIJiNGc8YiiM66l+erVq+En5yHWPduh7pZ+iHUBAAAANlN4wgHd399/daOgeMRoznicW9GZ6fnz58NSrkPc2f5Q6wIAAAAVKDzhCVvd7KjX48OHD8MzH9f79++Hpenm/Jl913dOPodaFwAAAOCBwhOesENdhzJbjxGMbRbtFPYeIzHb63GOTV8/xLoAAAAAmyk8gZOzb5E7NvJySsG57w2F2pGXU8rNQ60LAAAA8ODyU1xAEEgR08TXxTU8e5ZXUY71vAv43GuIvn379uLm5mb46mHk4753mW+zihs4TX097d8fxv7XNvX3Npn6Gg+xLgAAAMA4hSckyi48T0WPwjOuR7o+GnKf55iacxTE19fXw1cPpv6b7LOOh1gXAAAAYJwp7cBJaKeHR2EYJeMuUS62NhWEY99vC9AxUZS2oy63TWc/xLoAAAAA4xSewEmIKd8xEnJdlIzbisJ2JGWIEZHbjP08nmfs2plhbFRovM5tU9QPtS4AAADA10xph0SVpidvu15o3MynLeviupVjthWFY+ViWJWH6yMn2xGXYerU8bFyMcSfX/87xtYrTPl3PNS6AAAAAF9SeEKiSoXnppJwX7sy2FQU7rJvQTh3ffb5NzzUugAAAACPTGkHTkqUiVEqrkZCThGjSfctCOP3N41CHROvZ9/C+lDrAgAAADwywhMSrY/wfOqj9tq7lM+1z/9y4u+MaeVh05T5bVPkp1hN1R+bvh7/ZjH1/Orqaq+ic8wh1gUAAABQeAIAAAAAhZjSDgAAAACUofAEAAAAAMpQeAIAAAAAZSg8AQAAAIAyFJ4AAAAAQBkKTwAAAACgDIUnAAAAAFCGwhMAAAAAKEPhCQAAAACUofAEAAAAAMpQeAIAAAAAZSg8AQAAAIAyFJ4AAAAAQBkKTwAAAACgDIUnAAAAAFCGwhMAAAAAKEPhCQAAAACUofAEAAAAAMpQeAIAAAAAZSg8AQAAAIAyFJ4AAAAAQBkKTwAAAACgDIUnAAAAAFCGwhMAAAAAKEPhCQAAAACUofAEAAAAAMpQeAIAAAAAZSg8AQAAAIAyFJ4AAAAAQBkKTwAAAACgDIUnAAAAAFCGwhMAAAAAKEPhCQAAAACUofAEAAAAAMpQeAIAAAAAZSg8AQAAAIAiLi7+H4DYs7DHE0qxAAAAAElFTkSuQmCC)"
      ],
      "metadata": {
        "id": "S3LDGNlVsK55"
      }
    },
    {
      "cell_type": "code",
      "source": [
        "## Function\n",
        "# define annual equivalent value of the present value\n",
        "# Lets create a function for P(A/P,i,n). Notice that there are only 9 payments\n",
        "def annual_eq_presentvalue(presentvalue, rate, year):\n",
        "  AOP = presentvalue * (rate*(1+rate)**year)/((1+rate)**year-1)\n",
        "  return AOP\n",
        "\n",
        "\n",
        "## Variables\n",
        "# Present value of annuity (PV)\n",
        "PV = 1000\n",
        "# Interest rate (r)\n",
        "r = 0.05\n",
        "# Number of periods (n)\n",
        "n = 10\n",
        "\n",
        "## Calculate the A\n",
        "A = annual_eq_presentvalue(PV,r,n)\n",
        "\n",
        "print(\"Annual equivalent value of investment: ${:.2f}\".format(A))"
      ],
      "metadata": {
        "id": "Qswy5381sWax"
      },
      "execution_count": null,
      "outputs": []
    },
    {
      "cell_type": "markdown",
      "source": [
        "**Now Your Turn!**\n",
        "\n",
        "Create a function that present value given annuity. This is similar to the formula A(P/A,i,n). Calculate P, with A = 200 with rate = 5% and n = 10 year.\n",
        "\n",
        "Remember the steps:\n",
        "1. Define a function and required parameter\n",
        "2. Define the input variables\n",
        "3. Use the function to calculate the result"
      ],
      "metadata": {
        "id": "I5VL7Wz4_m4h"
      }
    },
    {
      "cell_type": "code",
      "source": [
        "## TO DO: Create a function that returns present value given annuity\n",
        "## This is similar to the formula A(P/A,i,n)\n",
        "\n",
        "# POA ="
      ],
      "metadata": {
        "id": "mzsdMqHDsino"
      },
      "execution_count": null,
      "outputs": []
    },
    {
      "cell_type": "code",
      "source": [
        "## TO DO: Calculate P assuming A = 200 given same r and n\n",
        "\n",
        "# P ="
      ],
      "metadata": {
        "id": "HwJRIIvYsjHv"
      },
      "execution_count": null,
      "outputs": []
    },
    {
      "cell_type": "markdown",
      "source": [
        "### Problem 2\n",
        "\n",
        "Let us assume the following annuity problem\n",
        "![image.png](data:image/png;base64,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)"
      ],
      "metadata": {
        "id": "4yp1UbNoske9"
      }
    },
    {
      "cell_type": "code",
      "source": [
        "## TO DO: Create a function that returns annuity given future value\n",
        "## This is similar to the formula F(A/F,i,n)\n",
        "\n",
        "# AOF ="
      ],
      "metadata": {
        "id": "vDDp8ZbPsuqj"
      },
      "execution_count": null,
      "outputs": []
    },
    {
      "cell_type": "code",
      "source": [
        "## TO DO: Create a function that returns future value given annuity\n",
        "## This is similar to the formula A(F/A,i,n)\n",
        "\n",
        "# FOA ="
      ],
      "metadata": {
        "id": "lJfRM7Y_stFA"
      },
      "execution_count": null,
      "outputs": []
    },
    {
      "cell_type": "markdown",
      "source": [
        "Great job for completing this notebook 🎉\n",
        "Please feel free to update this notebook and ask me any question (dpurba2@illinois.edu)\n",
        "\n",
        "Thank you!"
      ],
      "metadata": {
        "id": "dBk0Oei5szPx"
      }
    }
  ]
}